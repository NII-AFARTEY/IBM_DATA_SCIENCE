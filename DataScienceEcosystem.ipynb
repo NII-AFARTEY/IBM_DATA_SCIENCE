{
 "cells": [
  {
   "cell_type": "markdown",
   "id": "6c5d2576",
   "metadata": {},
   "source": [
    "# Data Science Tools and Ecosystem"
   ]
  },
  {
   "cell_type": "markdown",
   "id": "1bded822",
   "metadata": {},
   "source": [
    "In this notebook, Data Science Tools and Ecosystem are summarized."
   ]
  },
  {
   "cell_type": "markdown",
   "id": "91a3b320",
   "metadata": {},
   "source": [
    "**Objectives:** \n",
    "\n",
    "*List popular languages for Data Science *Some of the commonly used libraries used by Data Scientists include * Examples of evaluating arithmetic expressions in Python."
   ]
  },
  {
   "cell_type": "markdown",
   "id": "9393c898",
   "metadata": {},
   "source": [
    "Some of the popular languages that Data Scientists use are:\n",
    "1) Python  2) R  3) SQL  4) Scala  5) Julia  6) MATLAB"
   ]
  },
  {
   "cell_type": "markdown",
   "id": "895526d7",
   "metadata": {},
   "source": [
    "Some of the commonly used libraries used by Data Scientists include:\n",
    "1) Matplotlib 2) Pandas 3) NumPy 4) Scikit Learn 5) Tensorflow 6)Keras 7) Caret 8) Dplyr 9) GGplot2"
   ]
  },
  {
   "cell_type": "markdown",
   "id": "36753c10",
   "metadata": {},
   "source": [
    "|Data Science Tools|\n",
    "|:-----------------|\n",
    "|RStudio|\n",
    "|Apache Spark|\n",
    "|Apache Hadoop|"
   ]
  },
  {
   "cell_type": "markdown",
   "id": "3f2a8061",
   "metadata": {},
   "source": [
    "### Below are a few examples of evaluating arithmetic expressions in Python"
   ]
  },
  {
   "cell_type": "code",
   "execution_count": 1,
   "id": "702d77eb",
   "metadata": {},
   "outputs": [
    {
     "data": {
      "text/plain": [
       "17"
      ]
     },
     "execution_count": 1,
     "metadata": {},
     "output_type": "execute_result"
    }
   ],
   "source": [
    "(3*4)+5  #This a simple arithmetic expression to mutiply then add integers"
   ]
  },
  {
   "cell_type": "code",
   "execution_count": 4,
   "id": "1edce62f",
   "metadata": {},
   "outputs": [
    {
     "data": {
      "text/plain": [
       "3.3333333333333335"
      ]
     },
     "execution_count": 4,
     "metadata": {},
     "output_type": "execute_result"
    }
   ],
   "source": [
    "200/60  #This will convert 200 minutes to hours by diving by 60"
   ]
  },
  {
   "cell_type": "markdown",
   "id": "4ad9fd32",
   "metadata": {},
   "source": [
    "## Author\n",
    "\n",
    "Leslie Nii Afartey Odoi"
   ]
  },
  {
   "cell_type": "code",
   "execution_count": null,
   "id": "d7103c51",
   "metadata": {},
   "outputs": [],
   "source": []
  }
 ],
 "metadata": {
  "kernelspec": {
   "display_name": "Python 3 (ipykernel)",
   "language": "python",
   "name": "python3"
  },
  "language_info": {
   "codemirror_mode": {
    "name": "ipython",
    "version": 3
   },
   "file_extension": ".py",
   "mimetype": "text/x-python",
   "name": "python",
   "nbconvert_exporter": "python",
   "pygments_lexer": "ipython3",
   "version": "3.8.16"
  }
 },
 "nbformat": 4,
 "nbformat_minor": 5
}
